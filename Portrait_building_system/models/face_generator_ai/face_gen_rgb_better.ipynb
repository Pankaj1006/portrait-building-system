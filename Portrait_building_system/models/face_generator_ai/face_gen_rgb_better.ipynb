{
  "nbformat": 4,
  "nbformat_minor": 0,
  "metadata": {
    "colab": {
      "name": "face_gen_rgb_better",
      "provenance": [],
      "collapsed_sections": []
    },
    "kernelspec": {
      "name": "python3",
      "display_name": "Python 3"
    },
    "accelerator": "GPU"
  },
  "cells": [
    {
      "cell_type": "code",
      "metadata": {
        "id": "jdOomREQXTT4",
        "colab_type": "code",
        "colab": {
          "base_uri": "https://localhost:8080/",
          "height": 68
        },
        "outputId": "6a9698d5-5645-40b0-b98d-6ee5652b5748"
      },
      "source": [
        "!pip install imageio\n",
        "\n",
        "import glob\n",
        "import imageio\n",
        "import matplotlib.pyplot as plt\n",
        "import numpy as np\n",
        "import os\n",
        "import PIL\n",
        "from tensorflow.keras import layers\n",
        "import time\n",
        "\n",
        "from IPython import display\n",
        "\n",
        "\n",
        "import tensorflow as tf"
      ],
      "execution_count": 7,
      "outputs": [
        {
          "output_type": "stream",
          "text": [
            "Requirement already satisfied: imageio in /usr/local/lib/python3.6/dist-packages (2.4.1)\n",
            "Requirement already satisfied: numpy in /usr/local/lib/python3.6/dist-packages (from imageio) (1.18.5)\n",
            "Requirement already satisfied: pillow in /usr/local/lib/python3.6/dist-packages (from imageio) (7.0.0)\n"
          ],
          "name": "stdout"
        }
      ]
    },
    {
      "cell_type": "code",
      "metadata": {
        "id": "Va36S6sYXcGu",
        "colab_type": "code",
        "colab": {}
      },
      "source": [
        "import numpy as np\n",
        "from keras import layers\n",
        "from keras.layers import Input, Add, Dense, Activation, ZeroPadding2D, BatchNormalization, Flatten, Conv2D, AveragePooling2D, MaxPooling2D, GlobalMaxPooling2D\n",
        "from keras.models import Model, load_model\n",
        "from keras.preprocessing import image\n",
        "from keras.utils import layer_utils\n",
        "from keras.utils.data_utils import get_file\n",
        "from keras.applications.imagenet_utils import preprocess_input\n",
        "import pydot\n",
        "from IPython.display import SVG\n",
        "from keras.utils.vis_utils import model_to_dot\n",
        "from keras.utils import plot_model\n",
        "from keras.initializers import glorot_uniform\n",
        "import scipy.misc\n",
        "from matplotlib.pyplot import imshow\n",
        "%matplotlib inline\n",
        "\n",
        "import keras.backend as K\n",
        "K.set_image_data_format('channels_last')\n",
        "K.set_learning_phase(1)"
      ],
      "execution_count": 8,
      "outputs": []
    },
    {
      "cell_type": "code",
      "metadata": {
        "id": "NGSu_Vp-XfFQ",
        "colab_type": "code",
        "colab": {}
      },
      "source": [
        "import os\n",
        "import cv2\n",
        "from keras.preprocessing.image import img_to_array\n",
        "import tensorflow as tf\n",
        "from tensorflow import keras\n",
        "from keras.layers import UpSampling2D\n"
      ],
      "execution_count": 9,
      "outputs": []
    },
    {
      "cell_type": "code",
      "metadata": {
        "id": "xW7x5iULa63x",
        "colab_type": "code",
        "colab": {}
      },
      "source": [
        "default_image_size=tuple((64, 64))\n",
        "def convert_image_to_array(image_dir):\n",
        "    try:\n",
        "        image = cv2.imread(image_dir)\n",
        "        image = cv2.cvtColor(image, cv2.cv2.COLOR_BGR2RGB)\n",
        "        if image is not None :\n",
        "            image = cv2.resize(image, default_image_size)  \n",
        "            \n",
        "            return  img_to_array(image)\n",
        "        else :\n",
        "            return np.array([])\n",
        "    except Exception as e:\n",
        "        print(f\"Error : {e}\")\n",
        "        return None"
      ],
      "execution_count": 39,
      "outputs": []
    },
    {
      "cell_type": "code",
      "metadata": {
        "id": "Ey3nM22ra7FB",
        "colab_type": "code",
        "colab": {
          "base_uri": "https://localhost:8080/",
          "height": 54
        },
        "outputId": "aa72763d-5c44-46b0-d8d1-d8a677677b9e"
      },
      "source": [
        "from google.colab import drive\n",
        "drive.mount('/content/drive/')"
      ],
      "execution_count": 40,
      "outputs": [
        {
          "output_type": "stream",
          "text": [
            "Drive already mounted at /content/drive/; to attempt to forcibly remount, call drive.mount(\"/content/drive/\", force_remount=True).\n"
          ],
          "name": "stdout"
        }
      ]
    },
    {
      "cell_type": "code",
      "metadata": {
        "id": "8fxvr6qma7Jc",
        "colab_type": "code",
        "colab": {}
      },
      "source": [
        "directory_root_leye='/content/drive/My Drive/extract/output/left_eye'\n",
        "image_list=[]\n",
        "img_name=[]\n",
        "list_img_filename=[]\n",
        "import os"
      ],
      "execution_count": 41,
      "outputs": []
    },
    {
      "cell_type": "code",
      "metadata": {
        "id": "qzpZdxj3a7NO",
        "colab_type": "code",
        "colab": {}
      },
      "source": [
        "for  dirname,dis,filenames in os.walk(directory_root_leye):\n",
        "    #list_img_array.append(dirname)\n",
        "    for filename in filenames:\n",
        "     \n",
        "        if filename.endswith(\".jpg\") == True or filename.endswith(\".JPG\") == True:\n",
        "            image_list.append(convert_image_to_array(os.path.join(dirname,filename)))\n",
        "            img_name.append(dirname)\n",
        "            list_img_filename.append(filename)"
      ],
      "execution_count": 42,
      "outputs": []
    },
    {
      "cell_type": "code",
      "metadata": {
        "id": "BggVbqXDNcqj",
        "colab_type": "code",
        "colab": {}
      },
      "source": [
        "list_img_filename=np.array(list_img_filename)"
      ],
      "execution_count": 43,
      "outputs": []
    },
    {
      "cell_type": "code",
      "metadata": {
        "id": "anYyFZm0NpzK",
        "colab_type": "code",
        "colab": {
          "base_uri": "https://localhost:8080/",
          "height": 34
        },
        "outputId": "ccfdbf41-9502-4aca-fe01-e93aafa21ef4"
      },
      "source": [
        "list_img_filename.shape"
      ],
      "execution_count": 44,
      "outputs": [
        {
          "output_type": "execute_result",
          "data": {
            "text/plain": [
              "(619,)"
            ]
          },
          "metadata": {
            "tags": []
          },
          "execution_count": 44
        }
      ]
    },
    {
      "cell_type": "code",
      "metadata": {
        "id": "yn-O6ZZua7P-",
        "colab_type": "code",
        "colab": {}
      },
      "source": [
        "directory_root_reye='/content/drive/My Drive/extract/output/right_eye'\n",
        "image_list_re=[]\n",
        "for  dirname,dis,filenames in os.walk(directory_root_reye):\n",
        "    #list_img_array.append(dirname)\n",
        "    for filename in filenames[0:1500]:\n",
        "     \n",
        "        if filename.endswith(\".jpg\") == True or filename.endswith(\".JPG\") == True:\n",
        "            image_list_re.append(convert_image_to_array(os.path.join(dirname,filename)))"
      ],
      "execution_count": 45,
      "outputs": []
    },
    {
      "cell_type": "code",
      "metadata": {
        "id": "bDkdtOQXa7Sr",
        "colab_type": "code",
        "colab": {}
      },
      "source": [
        "\n",
        "directory_root_reye='/content/drive/My Drive/extract/output/nose'\n",
        "image_list_no=[]\n",
        "for  dirname,dis,filenames in os.walk(directory_root_reye):\n",
        "    #list_img_array.append(dirname)\n",
        "    for filename in filenames[0:1500]:\n",
        "     \n",
        "        if filename.endswith(\".jpg\") == True or filename.endswith(\".JPG\") == True:\n",
        "            image_list_no.append(convert_image_to_array(os.path.join(dirname,filename)))"
      ],
      "execution_count": 46,
      "outputs": []
    },
    {
      "cell_type": "code",
      "metadata": {
        "id": "wFhjooKta7VW",
        "colab_type": "code",
        "colab": {}
      },
      "source": [
        " directory_root_reye='/content/drive/My Drive/extract/output/lip'\n",
        "image_list_lip=[]\n",
        "for  dirname,dis,filenames in os.walk(directory_root_reye):\n",
        "    #list_img_array.append(dirname)\n",
        "    for filename in filenames[0:1500]:\n",
        "     \n",
        "        if filename.endswith(\".jpg\") == True or filename.endswith(\".JPG\") == True:\n",
        "            image_list_lip.append(convert_image_to_array(os.path.join(dirname,filename)))"
      ],
      "execution_count": 47,
      "outputs": []
    },
    {
      "cell_type": "code",
      "metadata": {
        "id": "2PlciSlwa7YI",
        "colab_type": "code",
        "colab": {}
      },
      "source": [
        "directory_root_reye='/content/drive/My Drive/extract/output/left_eyebrow'\n",
        "image_list_ly=[]\n",
        "for  dirname,dis,filenames in os.walk(directory_root_reye):\n",
        "    #list_img_array.append(dirname)\n",
        "    for filename in filenames[0:1500]:\n",
        "     \n",
        "        if filename.endswith(\".jpg\") == True or filename.endswith(\".JPG\") == True:\n",
        "            image_list_ly.append(convert_image_to_array(os.path.join(dirname,filename)))"
      ],
      "execution_count": 48,
      "outputs": []
    },
    {
      "cell_type": "code",
      "metadata": {
        "id": "_PjSV6Sea7aw",
        "colab_type": "code",
        "colab": {}
      },
      "source": [
        "directory_root_reye='/content/drive/My Drive/extract/output/right_eyebrow'\n",
        "image_list_ry=[]\n",
        "for  dirname,dis,filenames in os.walk(directory_root_reye):\n",
        "    #list_img_array.append(dirname)\n",
        "    for filename in filenames[0:1500]:\n",
        "     \n",
        "        if filename.endswith(\".jpg\") == True or filename.endswith(\".JPG\") == True:\n",
        "            image_list_ry.append(convert_image_to_array(os.path.join(dirname,filename)))"
      ],
      "execution_count": 49,
      "outputs": []
    },
    {
      "cell_type": "code",
      "metadata": {
        "id": "x8UHzsQKa7do",
        "colab_type": "code",
        "colab": {}
      },
      "source": [
        "directory_root_reye='/content/drive/My Drive/extract/output/chin'\n",
        "Y_train=[]\n",
        "for  dirname,dis,filenames in os.walk(directory_root_reye):\n",
        "    #list_img_array.append(dirname)\n",
        "    for filename in filenames:\n",
        "     \n",
        "        if filename.endswith(\".jpg\") == True or filename.endswith(\".JPG\") == True:\n",
        "            Y_train.append(convert_image_to_array(os.path.join(dirname,filename)))"
      ],
      "execution_count": 50,
      "outputs": []
    },
    {
      "cell_type": "code",
      "metadata": {
        "id": "5SkCvYW_a7gj",
        "colab_type": "code",
        "colab": {}
      },
      "source": [
        "image_list=np.array(image_list)\n",
        "image_list_re=np.array(image_list_re)\n",
        "image_list_no=np.array(image_list_no)\n",
        "image_list_lip=np.array(image_list_lip)\n",
        "image_list_ry=np.array(image_list_ry)\n",
        "image_list_ly=np.array(image_list_ly)\n",
        "Y_train=np.array(Y_train)"
      ],
      "execution_count": 51,
      "outputs": []
    },
    {
      "cell_type": "code",
      "metadata": {
        "id": "R2Srp00aIKS2",
        "colab_type": "code",
        "colab": {
          "base_uri": "https://localhost:8080/",
          "height": 34
        },
        "outputId": "8337355e-5cdb-4428-a5f7-22207bb828e4"
      },
      "source": [
        "\n",
        "image_list.shape"
      ],
      "execution_count": 52,
      "outputs": [
        {
          "output_type": "execute_result",
          "data": {
            "text/plain": [
              "(619, 64, 64, 3)"
            ]
          },
          "metadata": {
            "tags": []
          },
          "execution_count": 52
        }
      ]
    },
    {
      "cell_type": "code",
      "metadata": {
        "id": "iEfXayphIRJp",
        "colab_type": "code",
        "colab": {
          "base_uri": "https://localhost:8080/",
          "height": 34
        },
        "outputId": "f9da159e-03db-4f1d-8626-26bdce3bed3b"
      },
      "source": [
        "Y_train.shape"
      ],
      "execution_count": 53,
      "outputs": [
        {
          "output_type": "execute_result",
          "data": {
            "text/plain": [
              "(619, 64, 64, 3)"
            ]
          },
          "metadata": {
            "tags": []
          },
          "execution_count": 53
        }
      ]
    },
    {
      "cell_type": "code",
      "metadata": {
        "id": "7S3rIsV0OPCP",
        "colab_type": "code",
        "colab": {
          "base_uri": "https://localhost:8080/",
          "height": 285
        },
        "outputId": "3d69e8c0-2ab4-4d59-c0ed-70d3e4c9eff9"
      },
      "source": [
        "plt.imshow(Y_train[0]/255)"
      ],
      "execution_count": 56,
      "outputs": [
        {
          "output_type": "execute_result",
          "data": {
            "text/plain": [
              "<matplotlib.image.AxesImage at 0x7fa3b237db38>"
            ]
          },
          "metadata": {
            "tags": []
          },
          "execution_count": 56
        },
        {
          "output_type": "display_data",
          "data": {
            "image/png": "[encoded data removed]",
            "text/plain": [
              "<Figure size 432x288 with 1 Axes>"
            ]
          },
          "metadata": {
            "tags": [],
            "needs_background": "light"
          }
        }
      ]
    },
    {
      "cell_type": "code",
      "metadata": {
        "id": "qudL2qX3a7jQ",
        "colab_type": "code",
        "colab": {}
      },
      "source": [
        "x_1=image_list/255\n",
        "x_2=image_list_re/255\n",
        "x_3=image_list_no/255\n",
        "x_4=image_list_lip/255\n",
        "x_5=image_list_ry/255\n",
        "x_6=image_list_ly/255\n",
        "y=Y_train/255\n",
        "\n"
      ],
      "execution_count": 57,
      "outputs": []
    },
    {
      "cell_type": "code",
      "metadata": {
        "id": "DwPVhP9Ta7mp",
        "colab_type": "code",
        "colab": {}
      },
      "source": [
        ""
      ],
      "execution_count": 57,
      "outputs": []
    },
    {
      "cell_type": "code",
      "metadata": {
        "id": "uoH9_0VJa7pz",
        "colab_type": "code",
        "colab": {}
      },
      "source": [
        "added_noise = np.random.randn(*(64,64))"
      ],
      "execution_count": 58,
      "outputs": []
    },
    {
      "cell_type": "code",
      "metadata": {
        "id": "wKSel6OkrbM6",
        "colab_type": "code",
        "colab": {}
      },
      "source": [
        "noise_factor = 0.2\n",
        "sample_image = y[101]\n",
        "noisy_sample_image = sample_image + noise_factor * np.random.randn(*(64,64,3))\n"
      ],
      "execution_count": 59,
      "outputs": []
    },
    {
      "cell_type": "code",
      "metadata": {
        "id": "RZk4KzhPRAcV",
        "colab_type": "code",
        "colab": {
          "base_uri": "https://localhost:8080/",
          "height": 302
        },
        "outputId": "9758b030-2775-4f51-89fc-5b3ba6475575"
      },
      "source": [
        "plt.imshow(noisy_sample_image)"
      ],
      "execution_count": 62,
      "outputs": [
        {
          "output_type": "stream",
          "text": [
            "Clipping input data to the valid range for imshow with RGB data ([0..1] for floats or [0..255] for integers).\n"
          ],
          "name": "stderr"
        },
        {
          "output_type": "execute_result",
          "data": {
            "text/plain": [
              "<matplotlib.image.AxesImage at 0x7fa3b22ceac8>"
            ]
          },
          "metadata": {
            "tags": []
          },
          "execution_count": 62
        },
        {
          "output_type": "display_data",
          "data": {
            "image/png": "[encoded data removed]",
            "text/plain": [
              "<Figure size 432x288 with 1 Axes>"
            ]
          },
          "metadata": {
            "tags": [],
            "needs_background": "light"
          }
        }
      ]
    },
    {
      "cell_type": "code",
      "metadata": {
        "id": "xa3I55qorbXc",
        "colab_type": "code",
        "colab": {}
      },
      "source": [
        "X_N = []\n",
        "noise_factor = 0.2\n",
        "\n",
        "for sample_image in y:\n",
        "  sample_image_noisy = sample_image + noise_factor * np.random.randn(*(64,64,3))\n",
        "  sample_image_noisy = np.clip(sample_image_noisy, 0., 1.)\n",
        "  X_N.append(sample_image_noisy)\n"
      ],
      "execution_count": 63,
      "outputs": []
    },
    {
      "cell_type": "code",
      "metadata": {
        "id": "QJm_0ccAxKVe",
        "colab_type": "code",
        "colab": {}
      },
      "source": [
        "X_N=np.array(X_N)\n",
        "XX_N=X_N"
      ],
      "execution_count": 64,
      "outputs": []
    },
    {
      "cell_type": "code",
      "metadata": {
        "id": "iUXbujVSrbdu",
        "colab_type": "code",
        "colab": {
          "base_uri": "https://localhost:8080/",
          "height": 285
        },
        "outputId": "1ba5b8d0-ea29-4760-d25d-2e418b8d03a7"
      },
      "source": [
        "plt.imshow((tf.squeeze(XX_N[0])),cmap=\"gray\")"
      ],
      "execution_count": 65,
      "outputs": [
        {
          "output_type": "execute_result",
          "data": {
            "text/plain": [
              "<matplotlib.image.AxesImage at 0x7fa3b2233b38>"
            ]
          },
          "metadata": {
            "tags": []
          },
          "execution_count": 65
        },
        {
          "output_type": "display_data",
          "data": {
            "image/png": "[encoded data removed]",
            "text/plain": [
              "<Figure size 432x288 with 1 Axes>"
            ]
          },
          "metadata": {
            "tags": [],
            "needs_background": "light"
          }
        }
      ]
    },
    {
      "cell_type": "code",
      "metadata": {
        "id": "wZL-kwq9rbkt",
        "colab_type": "code",
        "colab": {}
      },
      "source": [
        ""
      ],
      "execution_count": 65,
      "outputs": []
    },
    {
      "cell_type": "code",
      "metadata": {
        "id": "-i467yRjrbjL",
        "colab_type": "code",
        "colab": {}
      },
      "source": [
        ""
      ],
      "execution_count": 65,
      "outputs": []
    },
    {
      "cell_type": "code",
      "metadata": {
        "id": "ZpPRPJbmrbbA",
        "colab_type": "code",
        "colab": {}
      },
      "source": [
        ""
      ],
      "execution_count": 65,
      "outputs": []
    },
    {
      "cell_type": "code",
      "metadata": {
        "id": "KvpmWvzcX0dA",
        "colab_type": "code",
        "colab": {
          "base_uri": "https://localhost:8080/",
          "height": 1000
        },
        "outputId": "b9718611-5f0e-4247-972c-4c26a6714032"
      },
      "source": [
        "left_eye_input=Input(shape=(64,64,3))\n",
        "right_eye_input=Input(shape=(64,64,3))\n",
        "left_eyebrow_input=Input(shape=(64,64,3))\n",
        "right_eyebrow_input=Input(shape=(64,64,3))\n",
        "nose_input=Input(shape=(64,64,3))\n",
        "lip_input=Input(shape=(64,64,3))\n",
        "X_le= left_eye_input\n",
        "X_le=layers.Conv2DTranspose(32, (3, 3), strides=(1, 1), padding='same', use_bias=False)(X_le)\n",
        "X_re= right_eye_input\n",
        "X_re=layers.Conv2DTranspose(32, (3, 3), strides=(1, 1), padding='same', use_bias=False)(X_re)\n",
        "x_l= left_eyebrow_input\n",
        "x_l=layers.Conv2DTranspose(32, (3, 3), strides=(1, 1), padding='same', use_bias=False)(x_l)\n",
        "x_r= right_eyebrow_input\n",
        "x_r=layers.Conv2DTranspose(32, (3, 3), strides=(1, 1), padding='same', use_bias=False)(x_r)\n",
        "x_n= nose_input\n",
        "x_n=layers.Conv2DTranspose(32, (3, 3), strides=(1, 1), padding='same', use_bias=False)(x_n)\n",
        "x_li= lip_input\n",
        "x_li=layers.Conv2DTranspose(32, (3, 3), strides=(1, 1), padding='same', use_bias=False)(x_li)\n",
        "\n",
        "from keras.layers import Concatenate\n",
        "\n",
        "X1 = Concatenate()([X_le,X_re])\n",
        "X1=layers.Conv2DTranspose(64, (5, 5), strides=(1, 1), padding='same', use_bias=False)(X1) \n",
        "X1=layers.BatchNormalization()(X1)\n",
        "X1=layers.LeakyReLU()(X1)\n",
        "\n",
        "\n",
        "X2 = Concatenate()([x_l,x_r])\n",
        "X2=layers.Conv2DTranspose(64, (5, 5), strides=(1, 1), padding='same', use_bias=False)(X1) \n",
        "X2=layers.BatchNormalization()(X1)\n",
        "X2=layers.LeakyReLU()(X1)\n",
        "\n",
        "\n",
        "\n",
        "X3 = Concatenate()([x_n,x_li])\n",
        "X3=layers.Conv2DTranspose(64, (5, 5), strides=(1, 1), padding='same', use_bias=False)(X3) \n",
        "X3=layers.BatchNormalization()(X3)\n",
        "X3=layers.LeakyReLU()(X3)\n",
        "\n",
        "#X=layers.Reshape((16, 16, 256))(X)\n",
        "X = Concatenate()([X1,X2,X3])\n",
        "    # Because we used \"same\" padding and stride = 1, the output is the same size as input 7 x 7 but with 128 filters instead\n",
        "    # Resulting in 8 x 8x 128\n",
        "X=layers.Conv2DTranspose(64, (5, 5), strides=(1, 1), padding='same', use_bias=False)(X) \n",
        "X=layers.BatchNormalization()(X)\n",
        "X=layers.LeakyReLU()(X)\n",
        "\n",
        "    # Because we used \"same\" padding and stride = 2, the output is double the size of the input 14 x 14 but with 64 filters instead\n",
        "    # Resulting in 14 x 14 x 64\n",
        "X=layers.Conv2DTranspose(64, (5, 5), strides=(2, 2), padding='same', use_bias=False)(X)\n",
        "X=layers.BatchNormalization()(X)\n",
        "X=layers.LeakyReLU()(X)\n",
        "\n",
        "    # Because we used \"same\" padding and stride = 2, the output is double the size of the input 28 x 28 but with 1 filter instead\n",
        "    # Resulting in 28 x 28 x 1\n",
        "X=layers.Conv2DTranspose(64, (5, 5), strides=(2, 2), padding='same', use_bias=False)(X)\n",
        "#X= layers.Conv2D(64, (3, 3), strides = (2, 2), kernel_initializer = glorot_uniform(seed=0))(X)\n",
        "X=layers.BatchNormalization()(X)\n",
        "X=layers.LeakyReLU()(X)\n",
        "\n",
        "X= Conv2D(64, (2, 2), strides = (2, 2), kernel_initializer = glorot_uniform(seed=0))(X)\n",
        "X=layers.BatchNormalization()(X)\n",
        "X=MaxPooling2D((2, 2), padding='same')(X)\n",
        "#X=layers.Conv2DTranspose(9, (5, 5), strides=(2, 2), padding='same', use_bias=False)(X) \n",
        "#X= Conv2D(32, (1, 1), strides = (1, 1))(X)\n",
        "#X=layers.BatchNormalization()(X)\n",
        "#X=layers.LeakyReLU()(X)\n",
        "X= Conv2D(3, (3, 3), strides=(1, 1), padding='same', use_bias=False,activation='tanh')(X) \n",
        "generator= Model([left_eye_input,right_eye_input,left_eyebrow_input,right_eyebrow_input,nose_input,lip_input],X)\n",
        "generator.summary()"
      ],
      "execution_count": 66,
      "outputs": [
        {
          "output_type": "stream",
          "text": [
            "Model: \"model_2\"\n",
            "__________________________________________________________________________________________________\n",
            "Layer (type)                    Output Shape         Param #     Connected to                     \n",
            "==================================================================================================\n",
            "input_7 (InputLayer)            (None, 64, 64, 3)    0                                            \n",
            "__________________________________________________________________________________________________\n",
            "input_8 (InputLayer)            (None, 64, 64, 3)    0                                            \n",
            "__________________________________________________________________________________________________\n",
            "conv2d_transpose_13 (Conv2DTran (None, 64, 64, 32)   864         input_7[0][0]                    \n",
            "__________________________________________________________________________________________________\n",
            "conv2d_transpose_14 (Conv2DTran (None, 64, 64, 32)   864         input_8[0][0]                    \n",
            "__________________________________________________________________________________________________\n",
            "input_11 (InputLayer)           (None, 64, 64, 3)    0                                            \n",
            "__________________________________________________________________________________________________\n",
            "input_12 (InputLayer)           (None, 64, 64, 3)    0                                            \n",
            "__________________________________________________________________________________________________\n",
            "concatenate_5 (Concatenate)     (None, 64, 64, 64)   0           conv2d_transpose_13[0][0]        \n",
            "                                                                 conv2d_transpose_14[0][0]        \n",
            "__________________________________________________________________________________________________\n",
            "conv2d_transpose_17 (Conv2DTran (None, 64, 64, 32)   864         input_11[0][0]                   \n",
            "__________________________________________________________________________________________________\n",
            "conv2d_transpose_18 (Conv2DTran (None, 64, 64, 32)   864         input_12[0][0]                   \n",
            "__________________________________________________________________________________________________\n",
            "conv2d_transpose_19 (Conv2DTran (None, 64, 64, 64)   102400      concatenate_5[0][0]              \n",
            "__________________________________________________________________________________________________\n",
            "concatenate_7 (Concatenate)     (None, 64, 64, 64)   0           conv2d_transpose_17[0][0]        \n",
            "                                                                 conv2d_transpose_18[0][0]        \n",
            "__________________________________________________________________________________________________\n",
            "batch_normalization_8 (BatchNor (None, 64, 64, 64)   256         conv2d_transpose_19[0][0]        \n",
            "__________________________________________________________________________________________________\n",
            "conv2d_transpose_21 (Conv2DTran (None, 64, 64, 64)   102400      concatenate_7[0][0]              \n",
            "__________________________________________________________________________________________________\n",
            "leaky_re_lu_7 (LeakyReLU)       (None, 64, 64, 64)   0           batch_normalization_8[0][0]      \n",
            "__________________________________________________________________________________________________\n",
            "batch_normalization_10 (BatchNo (None, 64, 64, 64)   256         conv2d_transpose_21[0][0]        \n",
            "__________________________________________________________________________________________________\n",
            "leaky_re_lu_8 (LeakyReLU)       (None, 64, 64, 64)   0           leaky_re_lu_7[0][0]              \n",
            "__________________________________________________________________________________________________\n",
            "leaky_re_lu_9 (LeakyReLU)       (None, 64, 64, 64)   0           batch_normalization_10[0][0]     \n",
            "__________________________________________________________________________________________________\n",
            "concatenate_8 (Concatenate)     (None, 64, 64, 192)  0           leaky_re_lu_7[0][0]              \n",
            "                                                                 leaky_re_lu_8[0][0]              \n",
            "                                                                 leaky_re_lu_9[0][0]              \n",
            "__________________________________________________________________________________________________\n",
            "conv2d_transpose_22 (Conv2DTran (None, 64, 64, 64)   307200      concatenate_8[0][0]              \n",
            "__________________________________________________________________________________________________\n",
            "batch_normalization_11 (BatchNo (None, 64, 64, 64)   256         conv2d_transpose_22[0][0]        \n",
            "__________________________________________________________________________________________________\n",
            "leaky_re_lu_10 (LeakyReLU)      (None, 64, 64, 64)   0           batch_normalization_11[0][0]     \n",
            "__________________________________________________________________________________________________\n",
            "conv2d_transpose_23 (Conv2DTran (None, 128, 128, 64) 102400      leaky_re_lu_10[0][0]             \n",
            "__________________________________________________________________________________________________\n",
            "batch_normalization_12 (BatchNo (None, 128, 128, 64) 256         conv2d_transpose_23[0][0]        \n",
            "__________________________________________________________________________________________________\n",
            "leaky_re_lu_11 (LeakyReLU)      (None, 128, 128, 64) 0           batch_normalization_12[0][0]     \n",
            "__________________________________________________________________________________________________\n",
            "conv2d_transpose_24 (Conv2DTran (None, 256, 256, 64) 102400      leaky_re_lu_11[0][0]             \n",
            "__________________________________________________________________________________________________\n",
            "batch_normalization_13 (BatchNo (None, 256, 256, 64) 256         conv2d_transpose_24[0][0]        \n",
            "__________________________________________________________________________________________________\n",
            "leaky_re_lu_12 (LeakyReLU)      (None, 256, 256, 64) 0           batch_normalization_13[0][0]     \n",
            "__________________________________________________________________________________________________\n",
            "conv2d_3 (Conv2D)               (None, 128, 128, 64) 16448       leaky_re_lu_12[0][0]             \n",
            "__________________________________________________________________________________________________\n",
            "batch_normalization_14 (BatchNo (None, 128, 128, 64) 256         conv2d_3[0][0]                   \n",
            "__________________________________________________________________________________________________\n",
            "max_pooling2d_2 (MaxPooling2D)  (None, 64, 64, 64)   0           batch_normalization_14[0][0]     \n",
            "__________________________________________________________________________________________________\n",
            "conv2d_4 (Conv2D)               (None, 64, 64, 3)    1728        max_pooling2d_2[0][0]            \n",
            "==================================================================================================\n",
            "Total params: 739,968\n",
            "Trainable params: 739,200\n",
            "Non-trainable params: 768\n",
            "__________________________________________________________________________________________________\n"
          ],
          "name": "stdout"
        }
      ]
    },
    {
      "cell_type": "code",
      "metadata": {
        "id": "qJAOfBJqX_ML",
        "colab_type": "code",
        "colab": {}
      },
      "source": [
        ""
      ],
      "execution_count": 66,
      "outputs": []
    },
    {
      "cell_type": "code",
      "metadata": {
        "id": "YJr4Z0eTYDlr",
        "colab_type": "code",
        "colab": {}
      },
      "source": [
        "def make_discriminator_model():\n",
        "    data=Input(shape=(32,32,3))\n",
        "    x=layers.Conv2D(64, (5, 5), strides=(2, 2), padding='same')(data)\n",
        "    x=layers.LeakyReLU()(x)\n",
        "    x=layers.Dropout(0.3)(x)\n",
        "\n",
        "    x=layers.Conv2D(128, (5, 5), strides=(2, 2), padding='same')(x)\n",
        "    x=layers.LeakyReLU()(x)\n",
        "    x=layers.Dropout(0.3)(x)\n",
        "\n",
        "    x=layers.Flatten()(x)\n",
        "    x=layers.Dense(3072)(x)\n",
        "    model=Model(data,x)\n",
        "\n",
        "    return model"
      ],
      "execution_count": 67,
      "outputs": []
    },
    {
      "cell_type": "code",
      "metadata": {
        "id": "SUby85rQc_Z4",
        "colab_type": "code",
        "colab": {}
      },
      "source": [
        "def genra():\n",
        "  data=Input(shape=(64,64,3))\n",
        "  \n",
        "  # Let's build the encoder CNN\n",
        "  x=Conv2D(18, (3,3), strides=1,padding=\"same\", input_shape=(32, 32, 3))(data)\n",
        "  x=layers.BatchNormalization()(x)\n",
        "  x=layers.Activation('relu')(x)\n",
        "  x=layers.AveragePooling2D((2,2), padding=\"same\")(x)\n",
        "\n",
        "  x=layers.Conv2D(32, (3,3), strides=1, padding=\"same\")(x)\n",
        "  x=layers.BatchNormalization()(x)\n",
        "  x=layers.Activation('relu')(x)\n",
        "  x=layers.AveragePooling2D((2,2), padding=\"same\")(x)\n",
        "\n",
        "  x=layers.Conv2D(16, (3,3), strides=1, padding=\"same\")(x)\n",
        "  x=layers.BatchNormalization()(x)\n",
        "  x=layers.Activation('relu')(x)\n",
        "  x=layers.AveragePooling2D((2,2), padding=\"same\")(x) # Encoded image (Code Layer)\n",
        "\n",
        "\n",
        "# Let's build the decoder CNN \n",
        "  x=layers.Conv2D(16, (3,3), strides=1, padding=\"same\")(x)\n",
        "  x=layers.BatchNormalization()(x)\n",
        "  x=layers.Activation('relu')(x)\n",
        "  x=layers.UpSampling2D((2, 2))(x)\n",
        "\n",
        "  x=layers.Conv2D(32, (3,3), strides=1, padding=\"same\")(x)\n",
        "  x=layers.BatchNormalization()(x)\n",
        "  x=layers.Activation('relu')(x)\n",
        "  x=layers.UpSampling2D((2, 2))(x)\n",
        "\n",
        "\n",
        "  x=layers.Conv2D(64, (3,3), strides=1, padding=\"same\")(x)\n",
        "  x=layers.BatchNormalization()(x)\n",
        "  x=layers.Activation('relu')(x)\n",
        "  x=layers.UpSampling2D((2, 2))(x)\n",
        "\n",
        "  x=layers.Conv2D(3, (3,3), strides=1, activation='sigmoid', padding=\"same\")(x)\n",
        "  model=Model(data,x)\n",
        "  return  model"
      ],
      "execution_count": 68,
      "outputs": []
    },
    {
      "cell_type": "code",
      "metadata": {
        "id": "4S0GZnMUYIkQ",
        "colab_type": "code",
        "colab": {}
      },
      "source": [
        "discriminator = make_discriminator_model()"
      ],
      "execution_count": 69,
      "outputs": []
    },
    {
      "cell_type": "code",
      "metadata": {
        "id": "EoC0bgJMezTl",
        "colab_type": "code",
        "colab": {}
      },
      "source": [
        "discriminator2=genra()"
      ],
      "execution_count": 70,
      "outputs": []
    },
    {
      "cell_type": "code",
      "metadata": {
        "id": "p87vPLxBe_fL",
        "colab_type": "code",
        "colab": {
          "base_uri": "https://localhost:8080/",
          "height": 1000
        },
        "outputId": "65cef497-229c-4fe0-a244-f5d30cb95ae3"
      },
      "source": [
        "discriminator2.summary()"
      ],
      "execution_count": 71,
      "outputs": [
        {
          "output_type": "stream",
          "text": [
            "Model: \"model_4\"\n",
            "_________________________________________________________________\n",
            "Layer (type)                 Output Shape              Param #   \n",
            "=================================================================\n",
            "input_14 (InputLayer)        (None, 64, 64, 3)         0         \n",
            "_________________________________________________________________\n",
            "conv2d_7 (Conv2D)            (None, 64, 64, 18)        504       \n",
            "_________________________________________________________________\n",
            "batch_normalization_15 (Batc (None, 64, 64, 18)        72        \n",
            "_________________________________________________________________\n",
            "activation_1 (Activation)    (None, 64, 64, 18)        0         \n",
            "_________________________________________________________________\n",
            "average_pooling2d_1 (Average (None, 32, 32, 18)        0         \n",
            "_________________________________________________________________\n",
            "conv2d_8 (Conv2D)            (None, 32, 32, 32)        5216      \n",
            "_________________________________________________________________\n",
            "batch_normalization_16 (Batc (None, 32, 32, 32)        128       \n",
            "_________________________________________________________________\n",
            "activation_2 (Activation)    (None, 32, 32, 32)        0         \n",
            "_________________________________________________________________\n",
            "average_pooling2d_2 (Average (None, 16, 16, 32)        0         \n",
            "_________________________________________________________________\n",
            "conv2d_9 (Conv2D)            (None, 16, 16, 16)        4624      \n",
            "_________________________________________________________________\n",
            "batch_normalization_17 (Batc (None, 16, 16, 16)        64        \n",
            "_________________________________________________________________\n",
            "activation_3 (Activation)    (None, 16, 16, 16)        0         \n",
            "_________________________________________________________________\n",
            "average_pooling2d_3 (Average (None, 8, 8, 16)          0         \n",
            "_________________________________________________________________\n",
            "conv2d_10 (Conv2D)           (None, 8, 8, 16)          2320      \n",
            "_________________________________________________________________\n",
            "batch_normalization_18 (Batc (None, 8, 8, 16)          64        \n",
            "_________________________________________________________________\n",
            "activation_4 (Activation)    (None, 8, 8, 16)          0         \n",
            "_________________________________________________________________\n",
            "up_sampling2d_1 (UpSampling2 (None, 16, 16, 16)        0         \n",
            "_________________________________________________________________\n",
            "conv2d_11 (Conv2D)           (None, 16, 16, 32)        4640      \n",
            "_________________________________________________________________\n",
            "batch_normalization_19 (Batc (None, 16, 16, 32)        128       \n",
            "_________________________________________________________________\n",
            "activation_5 (Activation)    (None, 16, 16, 32)        0         \n",
            "_________________________________________________________________\n",
            "up_sampling2d_2 (UpSampling2 (None, 32, 32, 32)        0         \n",
            "_________________________________________________________________\n",
            "conv2d_12 (Conv2D)           (None, 32, 32, 64)        18496     \n",
            "_________________________________________________________________\n",
            "batch_normalization_20 (Batc (None, 32, 32, 64)        256       \n",
            "_________________________________________________________________\n",
            "activation_6 (Activation)    (None, 32, 32, 64)        0         \n",
            "_________________________________________________________________\n",
            "up_sampling2d_3 (UpSampling2 (None, 64, 64, 64)        0         \n",
            "_________________________________________________________________\n",
            "conv2d_13 (Conv2D)           (None, 64, 64, 3)         1731      \n",
            "=================================================================\n",
            "Total params: 38,243\n",
            "Trainable params: 37,887\n",
            "Non-trainable params: 356\n",
            "_________________________________________________________________\n"
          ],
          "name": "stdout"
        }
      ]
    },
    {
      "cell_type": "code",
      "metadata": {
        "id": "D_5Qlyqog5p9",
        "colab_type": "code",
        "colab": {}
      },
      "source": [
        "discriminator2.compile(optimizer=keras.optimizers.Adam(lr=0.01),loss=\"binary_crossentropy\",metrics=[\"accuracy\"])"
      ],
      "execution_count": 72,
      "outputs": []
    },
    {
      "cell_type": "code",
      "metadata": {
        "id": "bqvRjPPBxAFo",
        "colab_type": "code",
        "colab": {
          "base_uri": "https://localhost:8080/",
          "height": 34
        },
        "outputId": "d62bce8c-c8d6-45e0-a34d-2359fb645245"
      },
      "source": [
        "XX_N.shape"
      ],
      "execution_count": 73,
      "outputs": [
        {
          "output_type": "execute_result",
          "data": {
            "text/plain": [
              "(619, 64, 64, 3)"
            ]
          },
          "metadata": {
            "tags": []
          },
          "execution_count": 73
        }
      ]
    },
    {
      "cell_type": "code",
      "metadata": {
        "id": "g4oyj4A4g503",
        "colab_type": "code",
        "colab": {
          "base_uri": "https://localhost:8080/",
          "height": 714
        },
        "outputId": "83620881-f338-4c61-9307-358e7d77ef7c"
      },
      "source": [
        "discriminator2.fit(XX_N,y,epochs=20)"
      ],
      "execution_count": 74,
      "outputs": [
        {
          "output_type": "stream",
          "text": [
            "Epoch 1/20\n",
            "619/619 [==============================] - 14s 22ms/step - loss: 0.6469 - accuracy: 0.0061\n",
            "Epoch 2/20\n",
            "619/619 [==============================] - 13s 21ms/step - loss: 0.5857 - accuracy: 0.0066\n",
            "Epoch 3/20\n",
            "619/619 [==============================] - 13s 20ms/step - loss: 0.5783 - accuracy: 0.0066\n",
            "Epoch 4/20\n",
            "619/619 [==============================] - 13s 21ms/step - loss: 0.5743 - accuracy: 0.0066\n",
            "Epoch 5/20\n",
            "619/619 [==============================] - 13s 20ms/step - loss: 0.5729 - accuracy: 0.0066\n",
            "Epoch 6/20\n",
            "619/619 [==============================] - 13s 20ms/step - loss: 0.5700 - accuracy: 0.0066\n",
            "Epoch 7/20\n",
            "619/619 [==============================] - 13s 21ms/step - loss: 0.5670 - accuracy: 0.0066\n",
            "Epoch 8/20\n",
            "619/619 [==============================] - 13s 21ms/step - loss: 0.5668 - accuracy: 0.0066\n",
            "Epoch 9/20\n",
            "619/619 [==============================] - 13s 21ms/step - loss: 0.5657 - accuracy: 0.0066\n",
            "Epoch 10/20\n",
            "619/619 [==============================] - 13s 21ms/step - loss: 0.5639 - accuracy: 0.0066\n",
            "Epoch 11/20\n",
            "619/619 [==============================] - 13s 21ms/step - loss: 0.5629 - accuracy: 0.0066\n",
            "Epoch 12/20\n",
            "619/619 [==============================] - 13s 21ms/step - loss: 0.5627 - accuracy: 0.0066\n",
            "Epoch 13/20\n",
            "619/619 [==============================] - 13s 21ms/step - loss: 0.5631 - accuracy: 0.0066\n",
            "Epoch 14/20\n",
            "619/619 [==============================] - 13s 20ms/step - loss: 0.5624 - accuracy: 0.0066\n",
            "Epoch 15/20\n",
            "619/619 [==============================] - 13s 20ms/step - loss: 0.5620 - accuracy: 0.0066\n",
            "Epoch 16/20\n",
            "619/619 [==============================] - 13s 20ms/step - loss: 0.5626 - accuracy: 0.0066\n",
            "Epoch 17/20\n",
            "619/619 [==============================] - 13s 21ms/step - loss: 0.5636 - accuracy: 0.0066\n",
            "Epoch 18/20\n",
            "619/619 [==============================] - 13s 21ms/step - loss: 0.5614 - accuracy: 0.0066\n",
            "Epoch 19/20\n",
            "619/619 [==============================] - 14s 22ms/step - loss: 0.5609 - accuracy: 0.0066\n",
            "Epoch 20/20\n",
            "619/619 [==============================] - 18s 29ms/step - loss: 0.5593 - accuracy: 0.0066\n"
          ],
          "name": "stdout"
        },
        {
          "output_type": "execute_result",
          "data": {
            "text/plain": [
              "<keras.callbacks.callbacks.History at 0x7fa3b1f7b908>"
            ]
          },
          "metadata": {
            "tags": []
          },
          "execution_count": 74
        }
      ]
    },
    {
      "cell_type": "code",
      "metadata": {
        "id": "Vckb1RhKg59q",
        "colab_type": "code",
        "colab": {}
      },
      "source": [
        "c=discriminator2.predict(y[0:1])"
      ],
      "execution_count": 75,
      "outputs": []
    },
    {
      "cell_type": "code",
      "metadata": {
        "id": "xqYEDEE3g6Cy",
        "colab_type": "code",
        "colab": {
          "base_uri": "https://localhost:8080/",
          "height": 285
        },
        "outputId": "1d359838-5ecb-490c-c675-73f41bf83c2a"
      },
      "source": [
        "plt.imshow(c[0])"
      ],
      "execution_count": 76,
      "outputs": [
        {
          "output_type": "execute_result",
          "data": {
            "text/plain": [
              "<matplotlib.image.AxesImage at 0x7fa3b0ed4128>"
            ]
          },
          "metadata": {
            "tags": []
          },
          "execution_count": 76
        },
        {
          "output_type": "display_data",
          "data": {
            "image/png": "[encoded data removed]",
            "text/plain": [
              "<Figure size 432x288 with 1 Axes>"
            ]
          },
          "metadata": {
            "tags": [],
            "needs_background": "light"
          }
        }
      ]
    },
    {
      "cell_type": "code",
      "metadata": {
        "id": "jfMnXJdhg6G_",
        "colab_type": "code",
        "colab": {}
      },
      "source": [
        ""
      ],
      "execution_count": 76,
      "outputs": []
    },
    {
      "cell_type": "code",
      "metadata": {
        "id": "IE2bWNmnYNIe",
        "colab_type": "code",
        "colab": {}
      },
      "source": [
        "class VAE(keras.Model):\n",
        "    def __init__(self, generator, discriminator1, **kwargs):\n",
        "        super(VAE, self).__init__(**kwargs)\n",
        "        self.generator =  generator\n",
        "        self.discriminator2 = discriminator2\n",
        "\n",
        "    def train_step(self, data):\n",
        "        [x_1,x_2,x_3,x_4,x_5,x_6],y=data\n",
        "        #if isinstance(data, tuple):\n",
        "            #[x_1,x_2,x_3,x_4,x_5,x_6],y= data[0]\n",
        "\n",
        "        with tf.GradientTape() as tape,tf.GradientTape() as dic_tape:\n",
        "            z = generator([x_1,x_2,x_3,x_4,x_5,x_6])\n",
        "            y_real = discriminator2(y)\n",
        "            y_fack= discriminator2(z)\n",
        "            \n",
        "            fack_image_loss =tf.reduce_mean(keras.losses.binary_crossentropy(y,y_fack))\n",
        "            true_image_loss =tf.reduce_mean(keras.losses.binary_crossentropy(y_real,z))\n",
        "\n",
        "            \n",
        "        grads = tape.gradient(fack_image_loss, self.discriminator2.trainable_weights)\n",
        "        grads2 = dic_tape.gradient(true_image_loss, self.generator.trainable_weights)\n",
        "        \n",
        "        self.optimizer.apply_gradients(zip(grads, self.discriminator2.trainable_weights))\n",
        "        self.optimizer.apply_gradients(zip(grads2, self.generator.trainable_weights))\n",
        "        \n",
        "        \n",
        "          \n",
        "        \n",
        "        \n",
        "          \n",
        "\n",
        "        return {\n",
        "            \"fack_loss\": fack_image_loss,\n",
        "            \"true_loss\": true_image_loss,\n",
        "        }\n"
      ],
      "execution_count": 77,
      "outputs": []
    },
    {
      "cell_type": "code",
      "metadata": {
        "id": "Ae6xK_RAZSgX",
        "colab_type": "code",
        "colab": {}
      },
      "source": [
        "vae1 = VAE(generator, discriminator2)"
      ],
      "execution_count": 78,
      "outputs": []
    },
    {
      "cell_type": "markdown",
      "metadata": {
        "id": "fKE67JfimG83",
        "colab_type": "text"
      },
      "source": [
        ""
      ]
    },
    {
      "cell_type": "code",
      "metadata": {
        "id": "giVcWPDLZVEu",
        "colab_type": "code",
        "colab": {}
      },
      "source": [
        "\n",
        "vae1.compile(optimizer=keras.optimizers.Adam(learning_rate=0.0003))"
      ],
      "execution_count": 79,
      "outputs": []
    },
    {
      "cell_type": "code",
      "metadata": {
        "id": "_euhl0jEzjSo",
        "colab_type": "code",
        "colab": {}
      },
      "source": [
        ""
      ],
      "execution_count": 79,
      "outputs": []
    },
    {
      "cell_type": "code",
      "metadata": {
        "id": "SzOa5TzLA2tv",
        "colab_type": "code",
        "colab": {}
      },
      "source": [
        "x_0=np.array(image_list)"
      ],
      "execution_count": 80,
      "outputs": []
    },
    {
      "cell_type": "code",
      "metadata": {
        "id": "KteiZswRAx_1",
        "colab_type": "code",
        "colab": {
          "base_uri": "https://localhost:8080/",
          "height": 302
        },
        "outputId": "91ea8a15-09ef-4e58-f875-e1debdac35de"
      },
      "source": [
        "plt.imshow(x_0[0]/255)"
      ],
      "execution_count": 81,
      "outputs": [
        {
          "output_type": "stream",
          "text": [
            "Clipping input data to the valid range for imshow with RGB data ([0..1] for floats or [0..255] for integers).\n"
          ],
          "name": "stderr"
        },
        {
          "output_type": "execute_result",
          "data": {
            "text/plain": [
              "<matplotlib.image.AxesImage at 0x7fa3b0df7908>"
            ]
          },
          "metadata": {
            "tags": []
          },
          "execution_count": 81
        },
        {
          "output_type": "display_data",
          "data": {
            "image/png": "[encoded data removed]",
            "text/plain": [
              "<Figure size 432x288 with 1 Axes>"
            ]
          },
          "metadata": {
            "tags": [],
            "needs_background": "light"
          }
        }
      ]
    },
    {
      "cell_type": "code",
      "metadata": {
        "id": "UdLI9hG5zmNN",
        "colab_type": "code",
        "colab": {}
      },
      "source": [
        ""
      ],
      "execution_count": 81,
      "outputs": []
    },
    {
      "cell_type": "code",
      "metadata": {
        "id": "lUliKUo5Aqbc",
        "colab_type": "code",
        "colab": {
          "base_uri": "https://localhost:8080/",
          "height": 285
        },
        "outputId": "abefa8a3-d690-4773-80bc-12abf579790e"
      },
      "source": [
        "plt.imshow(x_2[0])"
      ],
      "execution_count": 82,
      "outputs": [
        {
          "output_type": "execute_result",
          "data": {
            "text/plain": [
              "<matplotlib.image.AxesImage at 0x7fa3b0ddb710>"
            ]
          },
          "metadata": {
            "tags": []
          },
          "execution_count": 82
        },
        {
          "output_type": "display_data",
          "data": {
            "image/png": "[encoded data removed]",
            "text/plain": [
              "<Figure size 432x288 with 1 Axes>"
            ]
          },
          "metadata": {
            "tags": [],
            "needs_background": "light"
          }
        }
      ]
    },
    {
      "cell_type": "code",
      "metadata": {
        "id": "z8umelzAsrf_",
        "colab_type": "code",
        "colab": {}
      },
      "source": [
        "x_1=\n",
        "x_2=\n",
        "x_3\n",
        "x_4=\n",
        "x_5="
      ],
      "execution_count": null,
      "outputs": []
    },
    {
      "cell_type": "code",
      "metadata": {
        "id": "rOeVICyCf8s4",
        "colab_type": "code",
        "colab": {
          "base_uri": "https://localhost:8080/",
          "height": 374
        },
        "outputId": "0397db53-600b-49e8-f6ce-31c9551a6de7"
      },
      "source": [
        "vae1.fit([x_1,x_2,x_3,x_4,x_5,x_6],y, epochs=10, batch_size=12)"
      ],
      "execution_count": 83,
      "outputs": [
        {
          "output_type": "stream",
          "text": [
            "Epoch 1/10\n",
            "52/52 [==============================] - 383s 7s/step - fack_loss: 0.6981 - true_loss: 2.0228\n",
            "Epoch 2/10\n",
            "52/52 [==============================] - 385s 7s/step - fack_loss: 0.6559 - true_loss: 0.6986\n",
            "Epoch 3/10\n",
            "52/52 [==============================] - 370s 7s/step - fack_loss: 0.6412 - true_loss: 0.6696\n",
            "Epoch 4/10\n",
            "52/52 [==============================] - 368s 7s/step - fack_loss: 0.6375 - true_loss: 0.6649\n",
            "Epoch 5/10\n",
            "52/52 [==============================] - 365s 7s/step - fack_loss: 0.6362 - true_loss: 0.6639\n",
            "Epoch 6/10\n",
            "52/52 [==============================] - 360s 7s/step - fack_loss: 0.6363 - true_loss: 0.6670\n",
            "Epoch 7/10\n",
            "52/52 [==============================] - 364s 7s/step - fack_loss: 0.6381 - true_loss: 0.6702\n",
            "Epoch 8/10\n",
            "52/52 [==============================] - 361s 7s/step - fack_loss: 0.6351 - true_loss: 0.6634\n",
            "Epoch 9/10\n",
            "52/52 [==============================] - 363s 7s/step - fack_loss: 0.6331 - true_loss: 0.6580\n",
            "Epoch 10/10\n",
            "52/52 [==============================] - 372s 7s/step - fack_loss: 0.6329 - true_loss: 0.6593\n"
          ],
          "name": "stdout"
        },
        {
          "output_type": "execute_result",
          "data": {
            "text/plain": [
              "<tensorflow.python.keras.callbacks.History at 0x7fa3b0d915f8>"
            ]
          },
          "metadata": {
            "tags": []
          },
          "execution_count": 83
        }
      ]
    },
    {
      "cell_type": "code",
      "metadata": {
        "id": "3E1mOS4wo186",
        "colab_type": "code",
        "colab": {}
      },
      "source": [
        "\n",
        "t=generator.predict(([x_1[0:1],x_2[0:1],x_3[0:1],x_4[0:1],x_5[0:1],x_6[0:1]]))\n"
      ],
      "execution_count": 84,
      "outputs": []
    },
    {
      "cell_type": "code",
      "metadata": {
        "id": "hILE-LHFo34q",
        "colab_type": "code",
        "colab": {
          "base_uri": "https://localhost:8080/",
          "height": 302
        },
        "outputId": "aa90f771-ce1a-4142-94f0-3a17f1e57535"
      },
      "source": [
        "plt.imshow(t[0])"
      ],
      "execution_count": 92,
      "outputs": [
        {
          "output_type": "stream",
          "text": [
            "Clipping input data to the valid range for imshow with RGB data ([0..1] for floats or [0..255] for integers).\n"
          ],
          "name": "stderr"
        },
        {
          "output_type": "execute_result",
          "data": {
            "text/plain": [
              "<matplotlib.image.AxesImage at 0x7fa3ae2a55c0>"
            ]
          },
          "metadata": {
            "tags": []
          },
          "execution_count": 92
        },
        {
          "output_type": "display_data",
          "data": {
            "image/png": "[encoded data removed]",
            "text/plain": [
              "<Figure size 432x288 with 1 Axes>"
            ]
          },
          "metadata": {
            "tags": [],
            "needs_background": "light"
          }
        }
      ]
    },
    {
      "cell_type": "code",
      "metadata": {
        "id": "cONYncT5gldl",
        "colab_type": "code",
        "colab": {}
      },
      "source": [
        "t1=discriminator2.predict(t[0:1])\n"
      ],
      "execution_count": 93,
      "outputs": []
    },
    {
      "cell_type": "code",
      "metadata": {
        "id": "-NPrlwGzpLez",
        "colab_type": "code",
        "colab": {
          "base_uri": "https://localhost:8080/",
          "height": 268
        },
        "outputId": "31138336-a3f3-4355-b21b-6fbd72248365"
      },
      "source": [
        "img_plot = plt.imshow(t1[0])\n",
        "plt.show()"
      ],
      "execution_count": 94,
      "outputs": [
        {
          "output_type": "display_data",
          "data": {
            "image/png": "[encoded data removed]",
            "text/plain": [
              "<Figure size 432x288 with 1 Axes>"
            ]
          },
          "metadata": {
            "tags": [],
            "needs_background": "light"
          }
        }
      ]
    },
    {
      "cell_type": "code",
      "metadata": {
        "id": "mLEZq35n9VZE",
        "colab_type": "code",
        "colab": {}
      },
      "source": [
        "t2=discriminator2.predict(t1[0:1])"
      ],
      "execution_count": 95,
      "outputs": []
    },
    {
      "cell_type": "code",
      "metadata": {
        "id": "V891Wf8SgLmQ",
        "colab_type": "code",
        "colab": {
          "base_uri": "https://localhost:8080/",
          "height": 285
        },
        "outputId": "12c63e04-3c70-4383-8c43-b863ad9d423c"
      },
      "source": [
        "\n",
        "plt.imshow(t2[0])"
      ],
      "execution_count": 96,
      "outputs": [
        {
          "output_type": "execute_result",
          "data": {
            "text/plain": [
              "<matplotlib.image.AxesImage at 0x7fa3ae2df1d0>"
            ]
          },
          "metadata": {
            "tags": []
          },
          "execution_count": 96
        },
        {
          "output_type": "display_data",
          "data": {
            "image/png": "[encoded data removed]",
            "text/plain": [
              "<Figure size 432x288 with 1 Axes>"
            ]
          },
          "metadata": {
            "tags": [],
            "needs_background": "light"
          }
        }
      ]
    },
    {
      "cell_type": "code",
      "metadata": {
        "id": "O9Gb2Fg6pjQi",
        "colab_type": "code",
        "colab": {
          "base_uri": "https://localhost:8080/",
          "height": 268
        },
        "outputId": "f0c80c92-5235-4a04-a009-b152c76403a0"
      },
      "source": [
        "img_plot = plt.imshow(c[0])\n",
        "plt.show()"
      ],
      "execution_count": 90,
      "outputs": [
        {
          "output_type": "display_data",
          "data": {
            "image/png": "[encoded data removed]",
            "text/plain": [
              "<Figure size 432x288 with 1 Axes>"
            ]
          },
          "metadata": {
            "tags": [],
            "needs_background": "light"
          }
        }
      ]
    },
    {
      "cell_type": "code",
      "metadata": {
        "id": "QZro7xNlp8tC",
        "colab_type": "code",
        "colab": {}
      },
      "source": [
        ""
      ],
      "execution_count": 90,
      "outputs": []
    },
    {
      "cell_type": "code",
      "metadata": {
        "id": "8w7keI2Qrm7q",
        "colab_type": "code",
        "colab": {}
      },
      "source": [
        "\n",
        "from keras.models import load_model"
      ],
      "execution_count": 97,
      "outputs": []
    },
    {
      "cell_type": "code",
      "metadata": {
        "id": "lBGZLWj8pnLl",
        "colab_type": "code",
        "colab": {}
      },
      "source": [
        "generator.save('my_gen_gray.h5')"
      ],
      "execution_count": 100,
      "outputs": []
    },
    {
      "cell_type": "code",
      "metadata": {
        "id": "96WTnV_zpqZB",
        "colab_type": "code",
        "colab": {
          "base_uri": "https://localhost:8080/",
          "height": 71
        },
        "outputId": "87be9b22-8694-4aa4-e9b2-d3b5f7706c41"
      },
      "source": [
        "discriminator2.save('my_des_gray.h5')"
      ],
      "execution_count": 101,
      "outputs": [
        {
          "output_type": "stream",
          "text": [
            "/usr/local/lib/python3.6/dist-packages/keras/engine/saving.py:165: UserWarning: TensorFlow optimizers do not make it possible to access optimizer attributes or optimizer state after instantiation. As a result, we cannot save the optimizer as part of the model save file.You will have to compile your model again after loading it. Prefer using a Keras optimizer instead (see keras.io/optimizers).\n",
            "  'TensorFlow optimizers do not '\n"
          ],
          "name": "stderr"
        }
      ]
    },
    {
      "cell_type": "code",
      "metadata": {
        "id": "l5lZTQCLswUW",
        "colab_type": "code",
        "colab": {}
      },
      "source": [
        "import imageio\n",
        "import numpy as np\n",
        "import scipy.ndimage\n",
        "import cv2\n",
        "import matplotlib.pyplot as plt\n",
        "from google.colab.patches import cv2_imshow"
      ],
      "execution_count": 103,
      "outputs": []
    },
    {
      "cell_type": "code",
      "metadata": {
        "id": "UUfGOfRstBMV",
        "colab_type": "code",
        "colab": {}
      },
      "source": [
        "def dodge(front,back): \n",
        "    result=front*255/(255-back)  \n",
        "    result[result>255]=255 \n",
        "    result[back==255]=255 \n",
        "    return result.astype('uint8')"
      ],
      "execution_count": 104,
      "outputs": []
    },
    {
      "cell_type": "code",
      "metadata": {
        "id": "Hwtw5HC1tDU1",
        "colab_type": "code",
        "colab": {}
      },
      "source": [
        "def sketch(img):\n",
        "    gray_img = np.dot(img[...,:3], [0.299, 0.587, 0.114])\n",
        "    inverted_img = 255 - gray_img\n",
        "    blur_img = scipy.ndimage.filters.gaussian_filter(inverted_img,sigma=3)\n",
        "    final_img= dodge(blur_img,gray_img)\n",
        "    return final_img"
      ],
      "execution_count": 118,
      "outputs": []
    },
    {
      "cell_type": "code",
      "metadata": {
        "id": "lSbtmUNttJOK",
        "colab_type": "code",
        "colab": {}
      },
      "source": [
        " b=sketch(c[0])"
      ],
      "execution_count": 119,
      "outputs": []
    },
    {
      "cell_type": "code",
      "metadata": {
        "id": "soFkLJzktL1U",
        "colab_type": "code",
        "colab": {
          "base_uri": "https://localhost:8080/",
          "height": 268
        },
        "outputId": "06114687-321b-43b5-983b-c9a84958d8de"
      },
      "source": [
        "img_plot = plt.imshow(b ,cmap=\"gray\")\n",
        "plt.show()"
      ],
      "execution_count": 120,
      "outputs": [
        {
          "output_type": "display_data",
          "data": {
            "image/png": "[encoded data removed]",
            "text/plain": [
              "<Figure size 432x288 with 1 Axes>"
            ]
          },
          "metadata": {
            "tags": [],
            "needs_background": "light"
          }
        }
      ]
    },
    {
      "cell_type": "code",
      "metadata": {
        "id": "LsMfsYruCQo-",
        "colab_type": "code",
        "colab": {}
      },
      "source": [
        ""
      ],
      "execution_count": null,
      "outputs": []
    }
  ]
}